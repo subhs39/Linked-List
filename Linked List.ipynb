{
 "cells": [
  {
   "cell_type": "code",
   "execution_count": 3,
   "metadata": {},
   "outputs": [],
   "source": [
    "# Linked List implementation of Linked List in python\n",
    "\n",
    "#  Node Class\n",
    "class Node(object):\n",
    "\n",
    "    def __init__(self,data = None, next_node = None):\n",
    "        self.data = data\n",
    "        self.next_node = next_node\n",
    "\n",
    "    def get_data(self):\n",
    "        return self.data\n",
    "    \n",
    "    def get_next(self):\n",
    "        return self.next_node\n",
    "    \n",
    "    def set_next(self,new_next):\n",
    "        self.next_node = new_next"
   ]
  },
  {
   "cell_type": "code",
   "execution_count": 4,
   "metadata": {},
   "outputs": [
    {
     "name": "stdout",
     "output_type": "stream",
     "text": [
      "12\n"
     ]
    }
   ],
   "source": [
    "temp = Node(12)\n",
    "print(temp.get_data())"
   ]
  },
  {
   "cell_type": "code",
   "execution_count": 31,
   "metadata": {},
   "outputs": [],
   "source": [
    "#  Linked List class\n",
    "class LinkedList(object):\n",
    "\n",
    "    def __init__(self, head = None):\n",
    "        self.head = head\n",
    "    \n",
    "    def insert(self,data):\n",
    "        new_node = Node(data)\n",
    "#       new_node.set_next(self.head)\n",
    "#       self.head = new_node\n",
    "        current = self.head\n",
    "        current.set_next(new_node)\n",
    "        \n",
    "    def size(self):\n",
    "        current = self.head\n",
    "        count = 0\n",
    "        while current:\n",
    "            count+=1\n",
    "            current = current.get_next()\n",
    "        return count\n",
    "\n",
    "    def __repr__(self):\n",
    "        i = 0\n",
    "        current = self.head\n",
    "        print(\"location\",\"data\")\n",
    "        while current:\n",
    "            i += 1\n",
    "            print(i,\"\\t\",current.get_data())\n",
    "            current = current.get_next()\n",
    "        if not i:\n",
    "            return \"List is Empty\"\n",
    "        return \"End\"\n",
    "    \n",
    "    def search(self, data):\n",
    "        current = self.head\n",
    "        found = False\n",
    "        while current and not found:\n",
    "            if current.get_data() == data:\n",
    "                found = True\n",
    "            else:\n",
    "                current = current.get_next()\n",
    "        if current is None:\n",
    "            print(\"Data is not in the list\")\n",
    "        return current\n",
    "\n",
    "    def delete(self, data):\n",
    "        current = self.head\n",
    "        previous = None\n",
    "        found = False\n",
    "        while current and found is False:\n",
    "            if current.get_data() == data:\n",
    "                found = True\n",
    "            else:\n",
    "                previous = current\n",
    "                current = current.get_next()\n",
    "        if current is None:\n",
    "            print(\"Data not in the list\")\n",
    "        if previous is None:\n",
    "            self.head = current.get_next()\n",
    "        else:\n",
    "            previous.set_next(current.get_next())\n",
    "    def delete_location(self, loc):\n",
    "        current = self.head\n",
    "        previous = None\n",
    "        i = 0\n",
    "        while current:\n",
    "            if i == loc:\n",
    "                if current is None:\n",
    "                    print(\"Data not in the list\")\n",
    "                if previous is None:\n",
    "                    self.head = current.get_next()\n",
    "                else:\n",
    "                    previous.set_next(current.get_next())\n",
    "            i+=1\n",
    "            previous = current\n",
    "            current = current.get_next()"
   ]
  },
  {
   "cell_type": "code",
   "execution_count": 32,
   "metadata": {},
   "outputs": [],
   "source": [
    "first_ll = LinkedList(temp)"
   ]
  },
  {
   "cell_type": "code",
   "execution_count": 33,
   "metadata": {},
   "outputs": [],
   "source": [
    "first_ll.insert(34)"
   ]
  },
  {
   "cell_type": "code",
   "execution_count": 34,
   "metadata": {},
   "outputs": [
    {
     "name": "stdout",
     "output_type": "stream",
     "text": [
      "location data\n",
      "1 \t 12\n",
      "2 \t 34\n",
      "End\n"
     ]
    }
   ],
   "source": [
    "print(first_ll)"
   ]
  },
  {
   "cell_type": "code",
   "execution_count": 37,
   "metadata": {},
   "outputs": [],
   "source": [
    "first_ll.delete_location(0)"
   ]
  },
  {
   "cell_type": "code",
   "execution_count": 38,
   "metadata": {},
   "outputs": [
    {
     "name": "stdout",
     "output_type": "stream",
     "text": [
      "location data\n"
     ]
    },
    {
     "data": {
      "text/plain": [
       "List is Empty"
      ]
     },
     "execution_count": 38,
     "metadata": {},
     "output_type": "execute_result"
    }
   ],
   "source": [
    "first_ll"
   ]
  },
  {
   "cell_type": "code",
   "execution_count": 63,
   "metadata": {},
   "outputs": [
    {
     "data": {
      "text/plain": [
       "97"
      ]
     },
     "execution_count": 63,
     "metadata": {},
     "output_type": "execute_result"
    }
   ],
   "source": []
  },
  {
   "cell_type": "code",
   "execution_count": null,
   "metadata": {},
   "outputs": [],
   "source": []
  }
 ],
 "metadata": {
  "kernelspec": {
   "display_name": "Python 3",
   "language": "python",
   "name": "python3"
  },
  "language_info": {
   "codemirror_mode": {
    "name": "ipython",
    "version": 3
   },
   "file_extension": ".py",
   "mimetype": "text/x-python",
   "name": "python",
   "nbconvert_exporter": "python",
   "pygments_lexer": "ipython3",
   "version": "3.7.1"
  }
 },
 "nbformat": 4,
 "nbformat_minor": 2
}
